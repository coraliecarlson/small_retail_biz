{
 "cells": [
  {
   "cell_type": "markdown",
   "id": "c32cbc16-5507-418e-8509-325b8b643ac0",
   "metadata": {},
   "source": [
    "**Geographical of small retail businesses**\n",
    "\n",
    "- This analysis uses County Business Pattern data from the U.S. Census Bureau for five years, from 2022 through 2018.\n",
    "- Merges it with the Rural-Urban Continuum Code, which identifies counties by population on a scale of 1 (urban) to 9 (rural).\n",
    "- Compare the number of retail businesses with 20 or fewer counties by:\n",
    "    - County\n",
    "    - County population\n",
    "    - State"
   ]
  },
  {
   "cell_type": "markdown",
   "id": "f389afe1-c75b-485f-a853-d921bb216f76",
   "metadata": {},
   "source": [
    "**Import pandas**"
   ]
  },
  {
   "cell_type": "code",
   "execution_count": 17,
   "id": "80fe204e-50d8-4780-a5d2-5b09d3fd399c",
   "metadata": {},
   "outputs": [],
   "source": [
    "import pandas as pd "
   ]
  },
  {
   "cell_type": "markdown",
   "id": "7c6862e8-f177-4b6d-bcd4-e58962da925e",
   "metadata": {},
   "source": [
    "**Read csv files for each year and interpret FIPS codes as strings**"
   ]
  },
  {
   "cell_type": "code",
   "execution_count": 18,
   "id": "06e6225e-2e2c-440c-8d38-24daa9c63b22",
   "metadata": {},
   "outputs": [],
   "source": [
    "county22_data = pd.read_csv('../data/cbp22co.csv', dtype={'fipstate': str, 'fipscty': str})\n",
    "county21_data = pd.read_csv('../data/cbp21co.csv', dtype={'fipstate': str, 'fipscty': str})\n",
    "county20_data = pd.read_csv('../data/cbp20co.csv', dtype={'fipstate': str, 'fipscty': str})\n",
    "county19_data = pd.read_csv('../data/cbp19co.csv', dtype={'fipstate': str, 'fipscty': str})\n",
    "county18_data = pd.read_csv('../data/cbp18co.csv', dtype={'fipstate': str, 'fipscty': str})\n"
   ]
  },
  {
   "cell_type": "markdown",
   "id": "b815b6ad-8b22-425f-8ab1-159bbe8b46ac",
   "metadata": {},
   "source": [
    "**Spot check that fipstate and fipscty are objects**"
   ]
  },
  {
   "cell_type": "code",
   "execution_count": 19,
   "id": "6f963144-a9a7-43f3-9552-d7707bcbfc43",
   "metadata": {},
   "outputs": [
    {
     "data": {
      "text/plain": [
       "fipstate    object\n",
       "fipscty     object\n",
       "naics       object\n",
       "emp_nf      object\n",
       "emp          int64\n",
       "qp1_nf      object\n",
       "qp1          int64\n",
       "ap_nf       object\n",
       "ap           int64\n",
       "est          int64\n",
       "n<5         object\n",
       "n5_9        object\n",
       "n10_19      object\n",
       "n20_49      object\n",
       "n50_99      object\n",
       "n100_249    object\n",
       "n250_499    object\n",
       "n500_999    object\n",
       "n1000       object\n",
       "n1000_1     object\n",
       "n1000_2     object\n",
       "n1000_3     object\n",
       "n1000_4     object\n",
       "dtype: object"
      ]
     },
     "execution_count": 19,
     "metadata": {},
     "output_type": "execute_result"
    }
   ],
   "source": [
    "county22_data.dtypes"
   ]
  },
  {
   "cell_type": "code",
   "execution_count": 20,
   "id": "00045e7c-8900-410c-b277-c2d781f8c694",
   "metadata": {},
   "outputs": [
    {
     "data": {
      "text/plain": [
       "fipstate    object\n",
       "fipscty     object\n",
       "naics       object\n",
       "emp_nf      object\n",
       "emp          int64\n",
       "qp1_nf      object\n",
       "qp1          int64\n",
       "ap_nf       object\n",
       "ap           int64\n",
       "est          int64\n",
       "n<5         object\n",
       "n5_9        object\n",
       "n10_19      object\n",
       "n20_49      object\n",
       "n50_99      object\n",
       "n100_249    object\n",
       "n250_499    object\n",
       "n500_999    object\n",
       "n1000       object\n",
       "n1000_1     object\n",
       "n1000_2     object\n",
       "n1000_3     object\n",
       "n1000_4     object\n",
       "censtate     int64\n",
       "cencty       int64\n",
       "dtype: object"
      ]
     },
     "execution_count": 20,
     "metadata": {},
     "output_type": "execute_result"
    }
   ],
   "source": [
    "county19_data.dtypes\n"
   ]
  },
  {
   "cell_type": "markdown",
   "id": "762e7436-97e7-4102-b77d-38df41c231e8",
   "metadata": {},
   "source": [
    "**Make new column of NAICS sector code (first two digits)**"
   ]
  },
  {
   "cell_type": "code",
   "execution_count": 21,
   "id": "4d73b6a4-ceae-4d3f-83ee-4da38a751eb7",
   "metadata": {},
   "outputs": [],
   "source": [
    "county22_data['naics_sector'] = county22_data['naics'].apply(lambda x: x[:2])\n",
    "county21_data['naics_sector'] = county21_data['naics'].apply(lambda x: x[:2])\n",
    "county20_data['naics_sector'] = county20_data['naics'].apply(lambda x: x[:2])\n",
    "county19_data['naics_sector'] = county19_data['naics'].apply(lambda x: x[:2])\n",
    "county18_data['naics_sector'] = county18_data['naics'].apply(lambda x: x[:2])\n"
   ]
  },
  {
   "cell_type": "markdown",
   "id": "f5f440f8-4375-4ce5-b822-fcfa13fc7b27",
   "metadata": {},
   "source": [
    "**Check that new column \"naics_sector\" appears**"
   ]
  },
  {
   "cell_type": "code",
   "execution_count": 23,
   "id": "c2d1b825-50f1-4e8d-b6ae-8b2ec5ed70a8",
   "metadata": {},
   "outputs": [
    {
     "data": {
      "text/html": [
       "<div>\n",
       "<style scoped>\n",
       "    .dataframe tbody tr th:only-of-type {\n",
       "        vertical-align: middle;\n",
       "    }\n",
       "\n",
       "    .dataframe tbody tr th {\n",
       "        vertical-align: top;\n",
       "    }\n",
       "\n",
       "    .dataframe thead th {\n",
       "        text-align: right;\n",
       "    }\n",
       "</style>\n",
       "<table border=\"1\" class=\"dataframe\">\n",
       "  <thead>\n",
       "    <tr style=\"text-align: right;\">\n",
       "      <th></th>\n",
       "      <th>fipstate</th>\n",
       "      <th>fipscty</th>\n",
       "      <th>naics</th>\n",
       "      <th>emp_nf</th>\n",
       "      <th>emp</th>\n",
       "      <th>qp1_nf</th>\n",
       "      <th>qp1</th>\n",
       "      <th>ap_nf</th>\n",
       "      <th>ap</th>\n",
       "      <th>est</th>\n",
       "      <th>...</th>\n",
       "      <th>n50_99</th>\n",
       "      <th>n100_249</th>\n",
       "      <th>n250_499</th>\n",
       "      <th>n500_999</th>\n",
       "      <th>n1000</th>\n",
       "      <th>n1000_1</th>\n",
       "      <th>n1000_2</th>\n",
       "      <th>n1000_3</th>\n",
       "      <th>n1000_4</th>\n",
       "      <th>naics_sector</th>\n",
       "    </tr>\n",
       "  </thead>\n",
       "  <tbody>\n",
       "    <tr>\n",
       "      <th>0</th>\n",
       "      <td>01</td>\n",
       "      <td>001</td>\n",
       "      <td>------</td>\n",
       "      <td>G</td>\n",
       "      <td>12409</td>\n",
       "      <td>G</td>\n",
       "      <td>117103</td>\n",
       "      <td>G</td>\n",
       "      <td>496158</td>\n",
       "      <td>948</td>\n",
       "      <td>...</td>\n",
       "      <td>33</td>\n",
       "      <td>10</td>\n",
       "      <td>3</td>\n",
       "      <td>N</td>\n",
       "      <td>N</td>\n",
       "      <td>N</td>\n",
       "      <td>N</td>\n",
       "      <td>N</td>\n",
       "      <td>N</td>\n",
       "      <td>--</td>\n",
       "    </tr>\n",
       "    <tr>\n",
       "      <th>1</th>\n",
       "      <td>01</td>\n",
       "      <td>001</td>\n",
       "      <td>11----</td>\n",
       "      <td>G</td>\n",
       "      <td>52</td>\n",
       "      <td>G</td>\n",
       "      <td>793</td>\n",
       "      <td>G</td>\n",
       "      <td>3477</td>\n",
       "      <td>10</td>\n",
       "      <td>...</td>\n",
       "      <td>N</td>\n",
       "      <td>N</td>\n",
       "      <td>N</td>\n",
       "      <td>N</td>\n",
       "      <td>N</td>\n",
       "      <td>N</td>\n",
       "      <td>N</td>\n",
       "      <td>N</td>\n",
       "      <td>N</td>\n",
       "      <td>11</td>\n",
       "    </tr>\n",
       "    <tr>\n",
       "      <th>2</th>\n",
       "      <td>01</td>\n",
       "      <td>001</td>\n",
       "      <td>113///</td>\n",
       "      <td>H</td>\n",
       "      <td>39</td>\n",
       "      <td>G</td>\n",
       "      <td>686</td>\n",
       "      <td>G</td>\n",
       "      <td>2890</td>\n",
       "      <td>7</td>\n",
       "      <td>...</td>\n",
       "      <td>N</td>\n",
       "      <td>N</td>\n",
       "      <td>N</td>\n",
       "      <td>N</td>\n",
       "      <td>N</td>\n",
       "      <td>N</td>\n",
       "      <td>N</td>\n",
       "      <td>N</td>\n",
       "      <td>N</td>\n",
       "      <td>11</td>\n",
       "    </tr>\n",
       "    <tr>\n",
       "      <th>3</th>\n",
       "      <td>01</td>\n",
       "      <td>001</td>\n",
       "      <td>1133//</td>\n",
       "      <td>H</td>\n",
       "      <td>39</td>\n",
       "      <td>G</td>\n",
       "      <td>686</td>\n",
       "      <td>G</td>\n",
       "      <td>2890</td>\n",
       "      <td>7</td>\n",
       "      <td>...</td>\n",
       "      <td>N</td>\n",
       "      <td>N</td>\n",
       "      <td>N</td>\n",
       "      <td>N</td>\n",
       "      <td>N</td>\n",
       "      <td>N</td>\n",
       "      <td>N</td>\n",
       "      <td>N</td>\n",
       "      <td>N</td>\n",
       "      <td>11</td>\n",
       "    </tr>\n",
       "    <tr>\n",
       "      <th>4</th>\n",
       "      <td>01</td>\n",
       "      <td>001</td>\n",
       "      <td>11331/</td>\n",
       "      <td>H</td>\n",
       "      <td>39</td>\n",
       "      <td>G</td>\n",
       "      <td>686</td>\n",
       "      <td>G</td>\n",
       "      <td>2890</td>\n",
       "      <td>7</td>\n",
       "      <td>...</td>\n",
       "      <td>N</td>\n",
       "      <td>N</td>\n",
       "      <td>N</td>\n",
       "      <td>N</td>\n",
       "      <td>N</td>\n",
       "      <td>N</td>\n",
       "      <td>N</td>\n",
       "      <td>N</td>\n",
       "      <td>N</td>\n",
       "      <td>11</td>\n",
       "    </tr>\n",
       "  </tbody>\n",
       "</table>\n",
       "<p>5 rows × 24 columns</p>\n",
       "</div>"
      ],
      "text/plain": [
       "  fipstate fipscty   naics emp_nf    emp qp1_nf     qp1 ap_nf      ap  est  \\\n",
       "0       01     001  ------      G  12409      G  117103     G  496158  948   \n",
       "1       01     001  11----      G     52      G     793     G    3477   10   \n",
       "2       01     001  113///      H     39      G     686     G    2890    7   \n",
       "3       01     001  1133//      H     39      G     686     G    2890    7   \n",
       "4       01     001  11331/      H     39      G     686     G    2890    7   \n",
       "\n",
       "   ... n50_99 n100_249 n250_499 n500_999 n1000 n1000_1 n1000_2 n1000_3  \\\n",
       "0  ...     33       10        3        N     N       N       N       N   \n",
       "1  ...      N        N        N        N     N       N       N       N   \n",
       "2  ...      N        N        N        N     N       N       N       N   \n",
       "3  ...      N        N        N        N     N       N       N       N   \n",
       "4  ...      N        N        N        N     N       N       N       N   \n",
       "\n",
       "  n1000_4 naics_sector  \n",
       "0       N           --  \n",
       "1       N           11  \n",
       "2       N           11  \n",
       "3       N           11  \n",
       "4       N           11  \n",
       "\n",
       "[5 rows x 24 columns]"
      ]
     },
     "execution_count": 23,
     "metadata": {},
     "output_type": "execute_result"
    }
   ],
   "source": [
    "county22_data.head()"
   ]
  },
  {
   "cell_type": "markdown",
   "id": "876a1f2e-5045-4564-b113-8531afee3ccf",
   "metadata": {},
   "source": [
    "**Make a new column of FIPS that is fipstate + fipscty**"
   ]
  },
  {
   "cell_type": "code",
   "execution_count": 24,
   "id": "dc96519a-8499-4300-8663-e7798cdd77eb",
   "metadata": {},
   "outputs": [],
   "source": [
    "county22_data['FIPS'] = county22_data['fipstate'] + county22_data['fipscty']\n",
    "county21_data['FIPS'] = county21_data['fipstate'] + county21_data['fipscty']\n",
    "county20_data['FIPS'] = county20_data['fipstate'] + county20_data['fipscty']\n",
    "county19_data['FIPS'] = county19_data['fipstate'] + county19_data['fipscty']\n",
    "county18_data['FIPS'] = county18_data['fipstate'] + county18_data['fipscty']\n"
   ]
  },
  {
   "cell_type": "markdown",
   "id": "e9f88d5c-7db2-4e0a-871c-0e92ce1e656c",
   "metadata": {},
   "source": [
    "**Check that FIPS column is there**"
   ]
  },
  {
   "cell_type": "code",
   "execution_count": 25,
   "id": "65441281-68fd-46ea-b863-65e087e89c99",
   "metadata": {},
   "outputs": [
    {
     "data": {
      "text/html": [
       "<div>\n",
       "<style scoped>\n",
       "    .dataframe tbody tr th:only-of-type {\n",
       "        vertical-align: middle;\n",
       "    }\n",
       "\n",
       "    .dataframe tbody tr th {\n",
       "        vertical-align: top;\n",
       "    }\n",
       "\n",
       "    .dataframe thead th {\n",
       "        text-align: right;\n",
       "    }\n",
       "</style>\n",
       "<table border=\"1\" class=\"dataframe\">\n",
       "  <thead>\n",
       "    <tr style=\"text-align: right;\">\n",
       "      <th></th>\n",
       "      <th>fipstate</th>\n",
       "      <th>fipscty</th>\n",
       "      <th>naics</th>\n",
       "      <th>emp_nf</th>\n",
       "      <th>emp</th>\n",
       "      <th>qp1_nf</th>\n",
       "      <th>qp1</th>\n",
       "      <th>ap_nf</th>\n",
       "      <th>ap</th>\n",
       "      <th>est</th>\n",
       "      <th>...</th>\n",
       "      <th>n100_249</th>\n",
       "      <th>n250_499</th>\n",
       "      <th>n500_999</th>\n",
       "      <th>n1000</th>\n",
       "      <th>n1000_1</th>\n",
       "      <th>n1000_2</th>\n",
       "      <th>n1000_3</th>\n",
       "      <th>n1000_4</th>\n",
       "      <th>naics_sector</th>\n",
       "      <th>FIPS</th>\n",
       "    </tr>\n",
       "  </thead>\n",
       "  <tbody>\n",
       "    <tr>\n",
       "      <th>0</th>\n",
       "      <td>01</td>\n",
       "      <td>001</td>\n",
       "      <td>------</td>\n",
       "      <td>G</td>\n",
       "      <td>12409</td>\n",
       "      <td>G</td>\n",
       "      <td>117103</td>\n",
       "      <td>G</td>\n",
       "      <td>496158</td>\n",
       "      <td>948</td>\n",
       "      <td>...</td>\n",
       "      <td>10</td>\n",
       "      <td>3</td>\n",
       "      <td>N</td>\n",
       "      <td>N</td>\n",
       "      <td>N</td>\n",
       "      <td>N</td>\n",
       "      <td>N</td>\n",
       "      <td>N</td>\n",
       "      <td>--</td>\n",
       "      <td>01001</td>\n",
       "    </tr>\n",
       "    <tr>\n",
       "      <th>1</th>\n",
       "      <td>01</td>\n",
       "      <td>001</td>\n",
       "      <td>11----</td>\n",
       "      <td>G</td>\n",
       "      <td>52</td>\n",
       "      <td>G</td>\n",
       "      <td>793</td>\n",
       "      <td>G</td>\n",
       "      <td>3477</td>\n",
       "      <td>10</td>\n",
       "      <td>...</td>\n",
       "      <td>N</td>\n",
       "      <td>N</td>\n",
       "      <td>N</td>\n",
       "      <td>N</td>\n",
       "      <td>N</td>\n",
       "      <td>N</td>\n",
       "      <td>N</td>\n",
       "      <td>N</td>\n",
       "      <td>11</td>\n",
       "      <td>01001</td>\n",
       "    </tr>\n",
       "    <tr>\n",
       "      <th>2</th>\n",
       "      <td>01</td>\n",
       "      <td>001</td>\n",
       "      <td>113///</td>\n",
       "      <td>H</td>\n",
       "      <td>39</td>\n",
       "      <td>G</td>\n",
       "      <td>686</td>\n",
       "      <td>G</td>\n",
       "      <td>2890</td>\n",
       "      <td>7</td>\n",
       "      <td>...</td>\n",
       "      <td>N</td>\n",
       "      <td>N</td>\n",
       "      <td>N</td>\n",
       "      <td>N</td>\n",
       "      <td>N</td>\n",
       "      <td>N</td>\n",
       "      <td>N</td>\n",
       "      <td>N</td>\n",
       "      <td>11</td>\n",
       "      <td>01001</td>\n",
       "    </tr>\n",
       "    <tr>\n",
       "      <th>3</th>\n",
       "      <td>01</td>\n",
       "      <td>001</td>\n",
       "      <td>1133//</td>\n",
       "      <td>H</td>\n",
       "      <td>39</td>\n",
       "      <td>G</td>\n",
       "      <td>686</td>\n",
       "      <td>G</td>\n",
       "      <td>2890</td>\n",
       "      <td>7</td>\n",
       "      <td>...</td>\n",
       "      <td>N</td>\n",
       "      <td>N</td>\n",
       "      <td>N</td>\n",
       "      <td>N</td>\n",
       "      <td>N</td>\n",
       "      <td>N</td>\n",
       "      <td>N</td>\n",
       "      <td>N</td>\n",
       "      <td>11</td>\n",
       "      <td>01001</td>\n",
       "    </tr>\n",
       "    <tr>\n",
       "      <th>4</th>\n",
       "      <td>01</td>\n",
       "      <td>001</td>\n",
       "      <td>11331/</td>\n",
       "      <td>H</td>\n",
       "      <td>39</td>\n",
       "      <td>G</td>\n",
       "      <td>686</td>\n",
       "      <td>G</td>\n",
       "      <td>2890</td>\n",
       "      <td>7</td>\n",
       "      <td>...</td>\n",
       "      <td>N</td>\n",
       "      <td>N</td>\n",
       "      <td>N</td>\n",
       "      <td>N</td>\n",
       "      <td>N</td>\n",
       "      <td>N</td>\n",
       "      <td>N</td>\n",
       "      <td>N</td>\n",
       "      <td>11</td>\n",
       "      <td>01001</td>\n",
       "    </tr>\n",
       "  </tbody>\n",
       "</table>\n",
       "<p>5 rows × 25 columns</p>\n",
       "</div>"
      ],
      "text/plain": [
       "  fipstate fipscty   naics emp_nf    emp qp1_nf     qp1 ap_nf      ap  est  \\\n",
       "0       01     001  ------      G  12409      G  117103     G  496158  948   \n",
       "1       01     001  11----      G     52      G     793     G    3477   10   \n",
       "2       01     001  113///      H     39      G     686     G    2890    7   \n",
       "3       01     001  1133//      H     39      G     686     G    2890    7   \n",
       "4       01     001  11331/      H     39      G     686     G    2890    7   \n",
       "\n",
       "   ... n100_249 n250_499 n500_999 n1000 n1000_1 n1000_2 n1000_3 n1000_4  \\\n",
       "0  ...       10        3        N     N       N       N       N       N   \n",
       "1  ...        N        N        N     N       N       N       N       N   \n",
       "2  ...        N        N        N     N       N       N       N       N   \n",
       "3  ...        N        N        N     N       N       N       N       N   \n",
       "4  ...        N        N        N     N       N       N       N       N   \n",
       "\n",
       "  naics_sector   FIPS  \n",
       "0           --  01001  \n",
       "1           11  01001  \n",
       "2           11  01001  \n",
       "3           11  01001  \n",
       "4           11  01001  \n",
       "\n",
       "[5 rows x 25 columns]"
      ]
     },
     "execution_count": 25,
     "metadata": {},
     "output_type": "execute_result"
    }
   ],
   "source": [
    "county22_data.head()"
   ]
  },
  {
   "cell_type": "markdown",
   "id": "b3ce9ffe-dfcc-450a-b46a-43bc172196c5",
   "metadata": {},
   "source": [
    "**Make dataframe of only NAICS retail code (44, 45)**"
   ]
  },
  {
   "cell_type": "code",
   "execution_count": 26,
   "id": "631fd6b6-ad1a-44d2-8c46-2645e240205f",
   "metadata": {},
   "outputs": [],
   "source": [
    "retail22 = county22_data[county22_data['naics_sector'].isin(['44', '45'])]\n",
    "retail21 = county21_data[county21_data['naics_sector'].isin(['44', '45'])]\n",
    "retail20 = county20_data[county20_data['naics_sector'].isin(['44', '45'])]\n",
    "retail19 = county19_data[county19_data['naics_sector'].isin(['44', '45'])]\n",
    "retail18 = county18_data[county18_data['naics_sector'].isin(['44', '45'])]"
   ]
  },
  {
   "cell_type": "markdown",
   "id": "deaf52c8-2894-4184-864b-baf862995169",
   "metadata": {},
   "source": [
    "**Make dataframe of only companies with 20 or fewer employees**"
   ]
  },
  {
   "cell_type": "code",
   "execution_count": 27,
   "id": "a2d41096-798f-4d6b-8c73-6b9c4cde0321",
   "metadata": {},
   "outputs": [],
   "source": [
    "small_retail22 = retail22[retail22['emp'] <= 20]\n",
    "small_retail21 = retail21[retail21['emp'] <= 20]\n",
    "small_retail20 = retail20[retail20['emp'] <= 20]\n",
    "small_retail19 = retail19[retail19['emp'] <= 20]\n",
    "small_retail18 = retail18[retail18['emp'] <= 20]"
   ]
  },
  {
   "cell_type": "markdown",
   "id": "a9a9a3c1-d251-494b-9159-9af02f5a818e",
   "metadata": {},
   "source": [
    "**Import population data**"
   ]
  },
  {
   "cell_type": "code",
   "execution_count": 28,
   "id": "b6479d95-4400-4728-a6af-ea48b34ffc12",
   "metadata": {},
   "outputs": [],
   "source": [
    "population_info = pd.read_csv('../data/County_population.csv', dtype={'FIPS': str})"
   ]
  },
  {
   "cell_type": "markdown",
   "id": "f63c3b50-c961-4925-b0a6-33bfa555741b",
   "metadata": {},
   "source": [
    "**Merge population info with small retail dataframes for each year**"
   ]
  },
  {
   "cell_type": "code",
   "execution_count": 48,
   "id": "ca780940-be97-436c-9bbc-e5fa5baa7836",
   "metadata": {},
   "outputs": [],
   "source": [
    " small_retail_with_population22 = pd.merge(\n",
    "    small_retail22,\n",
    "    population_info,\n",
    "    on='FIPS',\n",
    "    how = 'left'\n",
    "\n",
    ")\n",
    "small_retail_with_population21 = pd.merge(\n",
    "    small_retail21,\n",
    "    population_info,\n",
    "    on='FIPS',\n",
    "    how = 'left'\n",
    "\n",
    ")\n",
    "small_retail_with_population20 = pd.merge(\n",
    "    small_retail20,\n",
    "    population_info,\n",
    "    on='FIPS',\n",
    "    how = 'left'\n",
    "\n",
    ")\n",
    "small_retail_with_population19 = pd.merge(\n",
    "    small_retail19,\n",
    "    population_info,\n",
    "    on='FIPS',\n",
    "    how = 'left'\n",
    "\n",
    ")\n",
    "small_retail_with_population18 = pd.merge(\n",
    "    small_retail18,\n",
    "    population_info,\n",
    "    on='FIPS',\n",
    "    how = 'left'\n",
    "\n",
    ")"
   ]
  },
  {
   "cell_type": "markdown",
   "id": "87b78ba7-1a68-418a-8c92-3219a5b62b7c",
   "metadata": {},
   "source": [
    "**Groupby counties (Number of small retail businesses in each county)**"
   ]
  },
  {
   "cell_type": "code",
   "execution_count": 36,
   "id": "2e976a9e-5549-45e3-876e-d7d8306e8c07",
   "metadata": {},
   "outputs": [],
   "source": [
    "county_counts22 = small_retail_with_population22.groupby('FIPS').agg({\n",
    "    \"Description\": \"count\"\n",
    "   \n",
    "})\n",
    "county_counts21 = small_retail_with_population21.groupby('FIPS').agg({\n",
    "    \"Description\": \"count\"\n",
    "   \n",
    "})\n",
    "county_counts20 = small_retail_with_population20.groupby('FIPS').agg({\n",
    "    \"Description\": \"count\"\n",
    "   \n",
    "})\n",
    "county_counts19 = small_retail_with_population19.groupby('FIPS').agg({\n",
    "    \"Description\": \"count\"\n",
    "   \n",
    "})\n",
    "county_counts18 = small_retail_with_population18.groupby('FIPS').agg({\n",
    "    \"Description\": \"count\"\n",
    "   \n",
    "})"
   ]
  },
  {
   "cell_type": "markdown",
   "id": "de9e6002-35fc-405a-a7b7-6098d2133897",
   "metadata": {},
   "source": [
    "**Export county counts**"
   ]
  },
  {
   "cell_type": "code",
   "execution_count": 37,
   "id": "79cef77e-38f3-4f79-bdc4-eec4d7a66fca",
   "metadata": {},
   "outputs": [],
   "source": [
    "county_counts22.to_csv('../output/county_counts22.csv')\n",
    "county_counts21.to_csv('../output/county_counts21.csv')\n",
    "county_counts20.to_csv('../output/county_counts20.csv')\n",
    "county_counts19.to_csv('../output/county_counts19.csv')\n",
    "county_counts18.to_csv('../output/county_counts18.csv')"
   ]
  },
  {
   "cell_type": "markdown",
   "id": "539d8c6d-0911-4c9a-8627-9038152d31dd",
   "metadata": {},
   "source": [
    "**Groupby rural/urban codes (number of small retail businesses in each population type)**"
   ]
  },
  {
   "cell_type": "code",
   "execution_count": 38,
   "id": "c55820cf-8abd-49bb-b77c-c25c78141545",
   "metadata": {},
   "outputs": [],
   "source": [
    "rural_sub_urban22 = small_retail_with_population22.groupby('RUCC_2023').agg({\n",
    "    \"Description\": \"count\"\n",
    "   \n",
    "})\n",
    "rural_sub_urban21 = small_retail_with_population21.groupby('RUCC_2023').agg({\n",
    "    \"Description\": \"count\"\n",
    "   \n",
    "})\n",
    "rural_sub_urban20 = small_retail_with_population20.groupby('RUCC_2023').agg({\n",
    "    \"Description\": \"count\"\n",
    "   \n",
    "})\n",
    "rural_sub_urban18 = small_retail_with_population19.groupby('RUCC_2023').agg({\n",
    "    \"Description\": \"count\"\n",
    "   \n",
    "})\n",
    "rural_sub_urban19 = small_retail_with_population18.groupby('RUCC_2023').agg({\n",
    "    \"Description\": \"count\"\n",
    "   \n",
    "})"
   ]
  },
  {
   "cell_type": "markdown",
   "id": "892811d9-770d-43d5-8ce2-73b586a750ee",
   "metadata": {},
   "source": [
    "**See the rural/suburban/urban counts**"
   ]
  },
  {
   "cell_type": "code",
   "execution_count": 93,
   "id": "3b6dd81d-7209-41c3-a6c1-cef5c888d8a2",
   "metadata": {},
   "outputs": [
    {
     "name": "stdout",
     "output_type": "stream",
     "text": [
      "RUCC_2023\n",
      "1.0    4169\n",
      "2.0    3743\n",
      "3.0    3583\n",
      "4.0    3597\n",
      "5.0    1332\n",
      "6.0    4956\n",
      "7.0    3317\n",
      "8.0    2860\n",
      "9.0    2699\n",
      "dtype: int64\n"
     ]
    }
   ],
   "source": [
    "print(rural_sub_urban19)"
   ]
  },
  {
   "cell_type": "markdown",
   "id": "8d32a0e3-9805-4b4c-91aa-7cd588c2288d",
   "metadata": {},
   "source": [
    "**Export rural/suburban counts CSV files to output folder**"
   ]
  },
  {
   "cell_type": "code",
   "execution_count": 94,
   "id": "4d41895a-f954-460d-bee8-81fdf0f0129c",
   "metadata": {},
   "outputs": [],
   "source": [
    "rural_sub_urban22.to_csv('../output/rural_sub_urban22.csv')\n",
    "rural_sub_urban21.to_csv('../output/rural_sub_urban21.csv')\n",
    "rural_sub_urban20.to_csv('../output/rural_sub_urban20.csv')\n",
    "rural_sub_urban19.to_csv('../output/rural_sub_urban19.csv')\n",
    "rural_sub_urban18.to_csv('../output/rural_sub_urban18.csv')"
   ]
  },
  {
   "cell_type": "markdown",
   "id": "c7091bf8-a44e-497c-924c-5f75ad6a975c",
   "metadata": {},
   "source": [
    "**Groupby state (number of small retail businesses per state)**"
   ]
  },
  {
   "cell_type": "code",
   "execution_count": 46,
   "id": "bc0cd08d-0d69-46dc-b373-0a84b97eacfc",
   "metadata": {},
   "outputs": [],
   "source": [
    "state_counts22 = small_retail_with_population22.groupby('fipstate').agg({\n",
    "    \"Description\": \"count\"\n",
    "})\n",
    "state_counts21 = small_retail_with_population21.groupby('fipstate').agg({\n",
    "    \"Description\": \"count\"\n",
    "})\n",
    "state_counts20 = small_retail_with_population20.groupby('fipstate').agg({\n",
    "    \"Description\": \"count\"\n",
    "})\n",
    "state_counts19 = small_retail_with_population19.groupby('fipstate').agg({\n",
    "    \"Description\": \"count\"\n",
    "})\n",
    "state_counts18 = small_retail_with_population18.groupby('fipstate').agg({\n",
    "    \"Description\": \"count\"\n",
    "})"
   ]
  },
  {
   "cell_type": "markdown",
   "id": "88018113-b7b1-4b8b-a205-d748b14dbad7",
   "metadata": {},
   "source": [
    "**See the state counts**"
   ]
  },
  {
   "cell_type": "code",
   "execution_count": 47,
   "id": "728cabd7-4cba-432c-ae39-c4509d71f767",
   "metadata": {},
   "outputs": [
    {
     "name": "stdout",
     "output_type": "stream",
     "text": [
      "          Description\n",
      "fipstate             \n",
      "01                752\n",
      "02                186\n",
      "04                147\n",
      "05                702\n",
      "06                532\n",
      "08                565\n",
      "09                 92\n",
      "10                 33\n",
      "11                 13\n",
      "12                624\n",
      "13               1552\n",
      "15                 64\n",
      "16                343\n",
      "17                971\n",
      "18               1002\n",
      "19                915\n",
      "20                694\n",
      "21               1006\n",
      "22                547\n",
      "23                247\n",
      "24                261\n",
      "25                128\n",
      "26               1028\n",
      "27                911\n",
      "28                854\n",
      "29               1052\n",
      "30                326\n",
      "31                452\n",
      "32                 81\n",
      "33                133\n",
      "34                205\n",
      "35                316\n",
      "36                900\n",
      "37               1356\n",
      "38                222\n",
      "39                959\n",
      "40                794\n",
      "41                423\n",
      "42                762\n",
      "44                 87\n",
      "45                504\n",
      "46                291\n",
      "47                888\n",
      "48               1840\n",
      "49                219\n",
      "50                250\n",
      "51               1322\n",
      "53                400\n",
      "54                442\n",
      "55                847\n",
      "56                270\n"
     ]
    }
   ],
   "source": [
    "print(state_counts22)"
   ]
  },
  {
   "cell_type": "markdown",
   "id": "b14b9129-a920-4ab2-85a3-03fe7cf2a518",
   "metadata": {},
   "source": [
    "**Export state counts csv files to output folder**"
   ]
  },
  {
   "cell_type": "code",
   "execution_count": 97,
   "id": "a07312df-eae9-41ce-9120-e399f2e24ec6",
   "metadata": {},
   "outputs": [],
   "source": [
    "state_counts22.to_csv('../output/state_counts22.csv')\n",
    "state_counts21.to_csv('../output/state_counts21.csv')\n",
    "state_counts20.to_csv('../output/state_counts20.csv')\n",
    "state_counts19.to_csv('../output/state_counts19.csv')\n",
    "state_counts18.to_csv('../output/state_counts18.csv')"
   ]
  }
 ],
 "metadata": {
  "kernelspec": {
   "display_name": "Python 3 (ipykernel)",
   "language": "python",
   "name": "python3"
  },
  "language_info": {
   "codemirror_mode": {
    "name": "ipython",
    "version": 3
   },
   "file_extension": ".py",
   "mimetype": "text/x-python",
   "name": "python",
   "nbconvert_exporter": "python",
   "pygments_lexer": "ipython3",
   "version": "3.12.2"
  }
 },
 "nbformat": 4,
 "nbformat_minor": 5
}
